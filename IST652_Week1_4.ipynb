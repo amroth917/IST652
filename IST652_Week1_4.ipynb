{
  "nbformat": 4,
  "nbformat_minor": 0,
  "metadata": {
    "colab": {
      "name": "IST652_Week1_4.ipynb",
      "version": "0.3.2",
      "provenance": [],
      "include_colab_link": true
    },
    "kernelspec": {
      "name": "python3",
      "display_name": "Python 3"
    }
  },
  "cells": [
    {
      "cell_type": "markdown",
      "metadata": {
        "id": "view-in-github",
        "colab_type": "text"
      },
      "source": [
        "<a href=\"https://colab.research.google.com/github/amroth917/IST652/blob/master/IST652_Week1_4.ipynb\" target=\"_parent\"><img src=\"https://colab.research.google.com/assets/colab-badge.svg\" alt=\"Open In Colab\"/></a>"
      ]
    },
    {
      "cell_type": "markdown",
      "metadata": {
        "id": "I1DqriJyDeBb",
        "colab_type": "text"
      },
      "source": [
        "Allison Roth\n",
        "July 23, 2019\n",
        "Week 1\n",
        "Activity 1.4\n",
        "Boolean and Conditional Statements"
      ]
    },
    {
      "cell_type": "code",
      "metadata": {
        "id": "68RmsOlbAZjD",
        "colab_type": "code",
        "colab": {
          "base_uri": "https://localhost:8080/",
          "height": 34
        },
        "outputId": "babb992c-325d-4a18-dd21-04be46fc813f"
      },
      "source": [
        "num1 = 0.95\n",
        "\n",
        "if num1 >= 0.9:\n",
        "  print('Enter Score', num1, 'Grade: A')\n",
        "else:\n",
        "    if num1 >=0.8:\n",
        "      print('Enter Score', num1, 'Grade: B')\n",
        "    else:\n",
        "      if num1 >=0.7:\n",
        "        print('Enter Score', num1, 'Grade: C')\n",
        "      else:\n",
        "        if num1 >=0.6:\n",
        "          print('Enter Score', num1, 'Grade: D')\n",
        "        else:\n",
        "            if num1 < 0.6:\n",
        "              print('Enter Score', num1, 'Grade: F')\n",
        "            else:\n",
        "              print('Enter Score', num1, 'Bad Score')"
      ],
      "execution_count": 18,
      "outputs": [
        {
          "output_type": "stream",
          "text": [
            "Enter Score 0.95 Grade: A\n"
          ],
          "name": "stdout"
        }
      ]
    },
    {
      "cell_type": "code",
      "metadata": {
        "id": "Ymx0Qj2oDJ8z",
        "colab_type": "code",
        "colab": {
          "base_uri": "https://localhost:8080/",
          "height": 34
        },
        "outputId": "5bab4f82-86b3-4431-a6cb-ec80d40b6794"
      },
      "source": [
        "num1 = .75\n",
        "\n",
        "if num1 >= 0.9:\n",
        "  print('Enter Score', num1, 'Grade: A')\n",
        "else:\n",
        "    if num1 >=0.8:\n",
        "      print('Enter Score', num1, 'Grade: B')\n",
        "    else:\n",
        "      if num1 >=0.7:\n",
        "        print('Enter Score', num1, 'Grade: C')\n",
        "      else:\n",
        "        if num1 >=0.6:\n",
        "          print('Enter Score', num1, 'Grade: D')\n",
        "        else:\n",
        "            if num1 < 0.6:\n",
        "              print('Enter Score', num1, 'Grade: F')\n",
        "            else:\n",
        "              print('Enter Score', num1, 'Bad Score')"
      ],
      "execution_count": 21,
      "outputs": [
        {
          "output_type": "stream",
          "text": [
            "Enter Score 0.75 Grade: C\n"
          ],
          "name": "stdout"
        }
      ]
    },
    {
      "cell_type": "code",
      "metadata": {
        "id": "OQnePcM4Daut",
        "colab_type": "code",
        "colab": {
          "base_uri": "https://localhost:8080/",
          "height": 34
        },
        "outputId": "e450ebc7-3776-4370-ef82-a82075ca0807"
      },
      "source": [
        "num1 = 0.5\n",
        "\n",
        "if num1 >= 0.9:\n",
        "  print('Enter Score', num1, 'Grade: A')\n",
        "else:\n",
        "    if num1 >=0.8:\n",
        "      print('Enter Score', num1, 'Grade: B')\n",
        "    else:\n",
        "      if num1 >=0.7:\n",
        "        print('Enter Score', num1, 'Grade: C')\n",
        "      else:\n",
        "        if num1 >=0.6:\n",
        "          print('Enter Score', num1, 'Grade: D')\n",
        "        else:\n",
        "            if num1 < 0.6:\n",
        "              print('Enter Score', num1, 'Grade: F')\n",
        "            else:\n",
        "              print('Enter Score', num1, 'Bad Score')"
      ],
      "execution_count": 22,
      "outputs": [
        {
          "output_type": "stream",
          "text": [
            "Enter Score 0.5 Grade: F\n"
          ],
          "name": "stdout"
        }
      ]
    },
    {
      "cell_type": "markdown",
      "metadata": {
        "id": "y8XlYKB5EOij",
        "colab_type": "text"
      },
      "source": [
        "Solution"
      ]
    },
    {
      "cell_type": "code",
      "metadata": {
        "id": "mUE66McVERkh",
        "colab_type": "code",
        "colab": {
          "base_uri": "https://localhost:8080/",
          "height": 249
        },
        "outputId": "cc344195-ea53-4c65-9dfd-186b0e2d735e"
      },
      "source": [
        "grade1 = input(\"Enter Score: \")\n",
        "\n",
        "if grade1 >= 0.9 and grade1<=1.0:\n",
        " print(\"Grade: A\")\n",
        "elif grade1 >=0.8 and grade1<0.9:\n",
        " print(\"Grade: B\")\n",
        "elif grade1 >=0.7 and grade1<0.8:\n",
        " print(\"‘Grade: C’\")\n",
        "elif grade1 >=0.6 and grade1<0.7:\n",
        " print(\"‘Grade: D’\")\n",
        "elif grade1<0.6:\n",
        " print(\"‘Grade: F’\")\n",
        "else:\n",
        " print(\"‘Bad Score’\")"
      ],
      "execution_count": 26,
      "outputs": [
        {
          "output_type": "stream",
          "text": [
            "Enter Score: .9\n"
          ],
          "name": "stdout"
        },
        {
          "output_type": "error",
          "ename": "TypeError",
          "evalue": "ignored",
          "traceback": [
            "\u001b[0;31m---------------------------------------------------------------------------\u001b[0m",
            "\u001b[0;31mTypeError\u001b[0m                                 Traceback (most recent call last)",
            "\u001b[0;32m<ipython-input-26-643050bcb6ae>\u001b[0m in \u001b[0;36m<module>\u001b[0;34m()\u001b[0m\n\u001b[1;32m      1\u001b[0m \u001b[0mgrade1\u001b[0m \u001b[0;34m=\u001b[0m \u001b[0minput\u001b[0m\u001b[0;34m(\u001b[0m\u001b[0;34m\"Enter Score: \"\u001b[0m\u001b[0;34m)\u001b[0m\u001b[0;34m\u001b[0m\u001b[0;34m\u001b[0m\u001b[0m\n\u001b[1;32m      2\u001b[0m \u001b[0;34m\u001b[0m\u001b[0m\n\u001b[0;32m----> 3\u001b[0;31m \u001b[0;32mif\u001b[0m \u001b[0mgrade1\u001b[0m \u001b[0;34m>=\u001b[0m \u001b[0;36m0.9\u001b[0m \u001b[0;32mand\u001b[0m \u001b[0mgrade1\u001b[0m\u001b[0;34m<=\u001b[0m\u001b[0;36m1.0\u001b[0m\u001b[0;34m:\u001b[0m\u001b[0;34m\u001b[0m\u001b[0;34m\u001b[0m\u001b[0m\n\u001b[0m\u001b[1;32m      4\u001b[0m  \u001b[0mprint\u001b[0m\u001b[0;34m(\u001b[0m\u001b[0;34m\"Grade: A\"\u001b[0m\u001b[0;34m)\u001b[0m\u001b[0;34m\u001b[0m\u001b[0;34m\u001b[0m\u001b[0m\n\u001b[1;32m      5\u001b[0m \u001b[0;32melif\u001b[0m \u001b[0mgrade1\u001b[0m \u001b[0;34m>=\u001b[0m\u001b[0;36m0.8\u001b[0m \u001b[0;32mand\u001b[0m \u001b[0mgrade1\u001b[0m\u001b[0;34m<\u001b[0m\u001b[0;36m0.9\u001b[0m\u001b[0;34m:\u001b[0m\u001b[0;34m\u001b[0m\u001b[0;34m\u001b[0m\u001b[0m\n",
            "\u001b[0;31mTypeError\u001b[0m: '>=' not supported between instances of 'str' and 'float'"
          ]
        }
      ]
    }
  ]
}