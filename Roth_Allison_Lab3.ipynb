{
  "nbformat": 4,
  "nbformat_minor": 0,
  "metadata": {
    "colab": {
      "name": "Roth_Allison_Lab3.ipynb",
      "version": "0.3.2",
      "provenance": [],
      "collapsed_sections": [],
      "include_colab_link": true
    },
    "kernelspec": {
      "name": "python3",
      "display_name": "Python 3"
    }
  },
  "cells": [
    {
      "cell_type": "markdown",
      "metadata": {
        "id": "view-in-github",
        "colab_type": "text"
      },
      "source": [
        "<a href=\"https://colab.research.google.com/github/amroth917/IST652/blob/master/Roth_Allison_Lab3.ipynb\" target=\"_parent\"><img src=\"https://colab.research.google.com/assets/colab-badge.svg\" alt=\"Open In Colab\"/></a>"
      ]
    },
    {
      "cell_type": "markdown",
      "metadata": {
        "id": "G3GhaQPDGAp1",
        "colab_type": "text"
      },
      "source": [
        "Allison Roth\n",
        "August 17, 2019\n",
        "Lab 3\n",
        "IST652\n"
      ]
    },
    {
      "cell_type": "code",
      "metadata": {
        "id": "FRfViULGMVgP",
        "colab_type": "code",
        "outputId": "c090aa4c-6308-41cb-b1e5-6f5ae114fe76",
        "colab": {
          "base_uri": "https://localhost:8080/",
          "height": 351
        }
      },
      "source": [
        "# Set wd in Google CoLab\n",
        "from google.colab import drive\n",
        "drive.mount('/content/drive/My Drive/IST652')\n",
        "#Import Packages\n",
        "import pandas as pd\n",
        "import numpy as np\n",
        "import decimal\n",
        "from decimal import *"
      ],
      "execution_count": 5,
      "outputs": [
        {
          "output_type": "error",
          "ename": "ValueError",
          "evalue": "ignored",
          "traceback": [
            "\u001b[0;31m---------------------------------------------------------------------------\u001b[0m",
            "\u001b[0;31mValueError\u001b[0m                                Traceback (most recent call last)",
            "\u001b[0;32m<ipython-input-5-53e2a0fef1df>\u001b[0m in \u001b[0;36m<module>\u001b[0;34m()\u001b[0m\n\u001b[1;32m      1\u001b[0m \u001b[0;32mfrom\u001b[0m \u001b[0mgoogle\u001b[0m\u001b[0;34m.\u001b[0m\u001b[0mcolab\u001b[0m \u001b[0;32mimport\u001b[0m \u001b[0mdrive\u001b[0m\u001b[0;34m\u001b[0m\u001b[0;34m\u001b[0m\u001b[0m\n\u001b[0;32m----> 2\u001b[0;31m \u001b[0mdrive\u001b[0m\u001b[0;34m.\u001b[0m\u001b[0mmount\u001b[0m\u001b[0;34m(\u001b[0m\u001b[0;34m'/content/drive/My Drive/IST652'\u001b[0m\u001b[0;34m)\u001b[0m\u001b[0;34m\u001b[0m\u001b[0;34m\u001b[0m\u001b[0m\n\u001b[0m\u001b[1;32m      3\u001b[0m \u001b[0;31m#Import Packages\u001b[0m\u001b[0;34m\u001b[0m\u001b[0;34m\u001b[0m\u001b[0;34m\u001b[0m\u001b[0m\n\u001b[1;32m      4\u001b[0m \u001b[0;32mimport\u001b[0m \u001b[0mpandas\u001b[0m \u001b[0;32mas\u001b[0m \u001b[0mpd\u001b[0m\u001b[0;34m\u001b[0m\u001b[0;34m\u001b[0m\u001b[0m\n\u001b[1;32m      5\u001b[0m \u001b[0;32mimport\u001b[0m \u001b[0mnumpy\u001b[0m \u001b[0;32mas\u001b[0m \u001b[0mnp\u001b[0m\u001b[0;34m\u001b[0m\u001b[0;34m\u001b[0m\u001b[0m\n",
            "\u001b[0;32m/usr/local/lib/python3.6/dist-packages/google/colab/drive.py\u001b[0m in \u001b[0;36mmount\u001b[0;34m(mountpoint, force_remount, timeout_ms)\u001b[0m\n\u001b[1;32m     89\u001b[0m \u001b[0;34m\u001b[0m\u001b[0m\n\u001b[1;32m     90\u001b[0m   \u001b[0;32mif\u001b[0m \u001b[0;34m' '\u001b[0m \u001b[0;32min\u001b[0m \u001b[0mmountpoint\u001b[0m\u001b[0;34m:\u001b[0m\u001b[0;34m\u001b[0m\u001b[0;34m\u001b[0m\u001b[0m\n\u001b[0;32m---> 91\u001b[0;31m     \u001b[0;32mraise\u001b[0m \u001b[0mValueError\u001b[0m\u001b[0;34m(\u001b[0m\u001b[0;34m'Mountpoint must not contain a space.'\u001b[0m\u001b[0;34m)\u001b[0m\u001b[0;34m\u001b[0m\u001b[0;34m\u001b[0m\u001b[0m\n\u001b[0m\u001b[1;32m     92\u001b[0m \u001b[0;34m\u001b[0m\u001b[0m\n\u001b[1;32m     93\u001b[0m   \u001b[0mmountpoint\u001b[0m \u001b[0;34m=\u001b[0m \u001b[0m_os\u001b[0m\u001b[0;34m.\u001b[0m\u001b[0mpath\u001b[0m\u001b[0;34m.\u001b[0m\u001b[0mexpanduser\u001b[0m\u001b[0;34m(\u001b[0m\u001b[0mmountpoint\u001b[0m\u001b[0;34m)\u001b[0m\u001b[0;34m\u001b[0m\u001b[0;34m\u001b[0m\u001b[0m\n",
            "\u001b[0;31mValueError\u001b[0m: Mountpoint must not contain a space."
          ]
        }
      ]
    },
    {
      "cell_type": "markdown",
      "metadata": {
        "id": "0l18g-aJHfhz",
        "colab_type": "text"
      },
      "source": [
        "Problem 1:\n",
        "What will the following Python program print out?\n"
      ]
    },
    {
      "cell_type": "code",
      "metadata": {
        "id": "02wd3vQPHiNR",
        "colab_type": "code",
        "colab": {
          "base_uri": "https://localhost:8080/",
          "height": 68
        },
        "outputId": "8f651379-2d07-4077-bf35-1acca56ea620"
      },
      "source": [
        "def fred():\n",
        "  print(\"Zapped\")\n",
        "\n",
        "def jane():\n",
        "  print(\"ABCdef\")\n",
        "\n",
        "jane()\n",
        "fred()\n",
        "jane()\n",
        "\n",
        "#Answer - d) ABCdef Zapped ABCdef"
      ],
      "execution_count": 11,
      "outputs": [
        {
          "output_type": "stream",
          "text": [
            "ABCdef\n",
            "Zapped\n",
            "ABCdef\n"
          ],
          "name": "stdout"
        }
      ]
    },
    {
      "cell_type": "markdown",
      "metadata": {
        "id": "pPy6EeV4H1YK",
        "colab_type": "text"
      },
      "source": [
        "Problem 2: Rewrite your pay computation with time-and-a-half for overtime and create a function called\n",
        "computepay that takes two parameters (hours and rate) and returns Gross pay.\n",
        "Make sure to display your results with the label of Gross pay:.\n",
        "Call the function 3 or 4 times and enter different values (at least one with over 40 hours)."
      ]
    },
    {
      "cell_type": "code",
      "metadata": {
        "id": "Eh8FOjBfH5N-",
        "colab_type": "code",
        "colab": {
          "base_uri": "https://localhost:8080/",
          "height": 85
        },
        "outputId": "be8d1938-3837-4f72-f7c6-2688e58d2cec"
      },
      "source": [
        "def computepay(hours,rate):\n",
        "    if hours > 40:\n",
        "      time = hours\n",
        "      overtime = time - 40\n",
        "      pay = rate\n",
        "      overtimepay = pay*.7\n",
        "      total = (time*pay) + (overtime*overtimepay)\n",
        "      print('Gross pay: ', total)\n",
        "      \n",
        "    else:\n",
        "      print('Gross pay: ', hours*rate)\n",
        "      \n",
        "computepay(40,10)\n",
        "computepay(45,10)\n",
        "computepay(55,100)\n",
        "computepay(35,100)\n"
      ],
      "execution_count": 22,
      "outputs": [
        {
          "output_type": "stream",
          "text": [
            "Gross pay:  400\n",
            "Gross pay:  485.0\n",
            "Gross pay:  6550.0\n",
            "Gross pay:  3500\n"
          ],
          "name": "stdout"
        }
      ]
    }
  ]
}