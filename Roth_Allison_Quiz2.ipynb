{
  "nbformat": 4,
  "nbformat_minor": 0,
  "metadata": {
    "colab": {
      "name": "Roth_Allison-Quiz2.ipynb",
      "version": "0.3.2",
      "provenance": [],
      "collapsed_sections": [],
      "include_colab_link": true
    },
    "kernelspec": {
      "name": "python3",
      "display_name": "Python 3"
    }
  },
  "cells": [
    {
      "cell_type": "markdown",
      "metadata": {
        "id": "view-in-github",
        "colab_type": "text"
      },
      "source": [
        "<a href=\"https://colab.research.google.com/github/amroth917/IST652/blob/master/Roth_Allison_Quiz2.ipynb\" target=\"_parent\"><img src=\"https://colab.research.google.com/assets/colab-badge.svg\" alt=\"Open In Colab\"/></a>"
      ]
    },
    {
      "cell_type": "code",
      "metadata": {
        "id": "QWq9FJHcO-1Z",
        "colab_type": "code",
        "colab": {}
      },
      "source": [
        "'''\n",
        "  This program reads the data from the price of gasoline csv file \n",
        "    and uses only the numeric data\n",
        "  Each line of the file has the year, followed by 12 months of gasoline prices\n",
        "  We put the numeric fields in a numpy array and use the data for numeric operations.\n",
        "\n",
        "  The outputs of the program are the averages of each month across the years\n",
        "    and the averages for each year.\n",
        "'''\n",
        "\n",
        "import csv\n",
        "import numpy as np\n",
        "\n",
        "infile = '//Price_of_Gasoline.XL.csv'\n",
        "\n",
        "# create new empty lists:  years and prices come from data\n",
        "yearsList = []\n",
        "pricesList = []\n",
        "# names of months for labeling results\n",
        "monthList = ['Jan','Feb','Mar','Apr','May','Jun','Jul','Aug','Sep','Oct','Nov','Dec']\n",
        "\n",
        "# read the data\n",
        "with open(infile, 'rU') as csvfile:\n",
        "    # the csv file reader returns a list of the csv items on each line - note delimiter is comma\n",
        "    priceReader = csv.reader(csvfile,  dialect='excel', delimiter=',')\n",
        "\n",
        "    # from each line, a list of row items, make separate lists for years and for the prices\n",
        "    for line in priceReader:\n",
        "      # skip lines without data\n",
        "      if line[0] == '' or line[0].startswith('Price') or line[0].startswith('Year'):\n",
        "          continue\n",
        "      else:\n",
        "          try:\n",
        "            # add the year to list\n",
        "            yearsList.append(line[0])\n",
        "            # append the prices (as strings) to the list\n",
        "            pricesList.append(line[1:])\n",
        "          except IndexError:\n",
        "            print ('Error: ', line)\n",
        "csvfile.close()\n",
        "\n",
        "print (\"Read\", len(yearsList), \"years of prices\")\n",
        "\n",
        "# make a numpy array for the strings\n",
        "data = np.array(pricesList)\n",
        "print('Shape of Prices data', data.shape)\n",
        "\n",
        "# convert the empty strings to strings of zeros, using a Boolean mask to find empty strings\n",
        "data[data == ''] = '0'\n",
        "\n",
        "# now we can convert the whole thing to float without getting conversion errors for the empty strings\n",
        "prices = data.astype(np.float)\n",
        "\n",
        "#print(prices)\n",
        "\n",
        "# compute the average price for each month (or use mean)\n",
        "# sum along the columns\n",
        "monthTotalPrices = np.sum(prices, axis = 0)\n",
        "# divide by number of years to get average\n",
        "monthAveragePrices = monthTotalPrices / len(yearsList)\n",
        "\n",
        "#print(monthAveragePrices)\n",
        "print (\"\\nAverage gas price for each month\\n\")\n",
        "\n",
        "# print the average price for each month\n",
        "for i, mon in enumerate(monthList):\n",
        "\tprint (mon, ':', monthAveragePrices[i])\n",
        "\n",
        "# compute the average price for each year up to the last one with missing data\n",
        "# sum along the rows\n",
        "yearTotalPrices = np.sum(prices, axis = 1)\n",
        "# divide by number of months to get average\n",
        "yearAveragePrices = yearTotalPrices / 12\n",
        "\n",
        "#print(monthAveragePrices)\n",
        "print (\"\\nAverage gas price for each year\\n\")\n",
        "\n",
        "# print the \n",
        "for i, year in enumerate(yearsList[ :-1]):\n",
        "  print (year ,':', yearAveragePrices[i])\n",
        "\n",
        "# or display the monthly averages as a simple plot\n",
        "\n",
        "import matplotlib.pyplot as pp\n",
        "\n",
        "x = np.arange(12)\n",
        "pp.xticks(x,monthList)\n",
        "pp.plot(x, monthAveragePrices)\n",
        "pp.show()\n",
        "\n",
        "\n",
        "# or we can also display the years with a simple plot\n",
        "x = np.arange(len(yearsList)-1)\n",
        "pp.xticks(x,yearsList)\n",
        "pp.plot(x, yearAveragePrices[:-1])\n",
        "pp.show()\n",
        "\n",
        "# Done!\n",
        "\n"
      ],
      "execution_count": 0,
      "outputs": []
    },
    {
      "cell_type": "code",
      "metadata": {
        "id": "_jNxh_tZXbBW",
        "colab_type": "code",
        "outputId": "dc5dac49-4f89-403f-8e4f-4e4dda881222",
        "colab": {
          "base_uri": "https://localhost:8080/",
          "height": 34
        }
      },
      "source": [
        "#people = {'hugh':49,'kate':35,'lucy':24,'bob':36}\n",
        "\n",
        "peoplelist = [{'name':'bob','age':28},{'name':'dylan','age':43},{'name':'cat','age':17}]\n",
        "\n",
        "for item in peoplelist:\n",
        "  if item['age'] > 30:\n",
        "    print(item['name'])\n"
      ],
      "execution_count": 0,
      "outputs": [
        {
          "output_type": "stream",
          "text": [
            "dylan\n"
          ],
          "name": "stdout"
        }
      ]
    },
    {
      "cell_type": "code",
      "metadata": {
        "id": "mMu7SX-sYapn",
        "colab_type": "code",
        "outputId": "fcfdd6a1-daaa-4d3f-b2eb-97882b3fa36f",
        "colab": {
          "base_uri": "https://localhost:8080/",
          "height": 34
        }
      },
      "source": [
        "def mystery(x):\n",
        "  if x>0:\n",
        "    return - x\n",
        "  else:\n",
        "    return x\n",
        "\n",
        "mystery(-5)"
      ],
      "execution_count": 0,
      "outputs": [
        {
          "output_type": "execute_result",
          "data": {
            "text/plain": [
              "-5"
            ]
          },
          "metadata": {
            "tags": []
          },
          "execution_count": 22
        }
      ]
    },
    {
      "cell_type": "code",
      "metadata": {
        "id": "MzrAk6Y2YxbB",
        "colab_type": "code",
        "outputId": "da823a63-c646-42b0-ac3a-9fc8ce5b22b5",
        "colab": {
          "base_uri": "https://localhost:8080/",
          "height": 34
        }
      },
      "source": [
        "import numpy as np\n",
        "c = np.array([[2,4,6,8],[12,14,16,18],[22,24,26,28]])\n",
        "c[1,:]"
      ],
      "execution_count": 0,
      "outputs": [
        {
          "output_type": "execute_result",
          "data": {
            "text/plain": [
              "array([12, 14, 16, 18])"
            ]
          },
          "metadata": {
            "tags": []
          },
          "execution_count": 28
        }
      ]
    },
    {
      "cell_type": "code",
      "metadata": {
        "id": "fpHfRpSRZWzC",
        "colab_type": "code",
        "outputId": "387d1d04-5dec-49c1-e3de-b9861558c6c1",
        "colab": {
          "base_uri": "https://localhost:8080/",
          "height": 34
        }
      },
      "source": [
        "d = np.array([6,16,26])\n",
        "d[d>10]=0\n",
        "print(d)"
      ],
      "execution_count": 0,
      "outputs": [
        {
          "output_type": "stream",
          "text": [
            "[6 0 0]\n"
          ],
          "name": "stdout"
        }
      ]
    },
    {
      "cell_type": "code",
      "metadata": {
        "id": "fTcw4VqBZjRo",
        "colab_type": "code",
        "outputId": "9d7af4aa-0238-4797-9db2-4f98be271a41",
        "colab": {
          "base_uri": "https://localhost:8080/",
          "height": 198
        }
      },
      "source": [
        "import datetime\n",
        "d1 = datetime(2017,2,22,9,30)\n",
        "d2 = datetime(2017,2,22,10,45)\n"
      ],
      "execution_count": 0,
      "outputs": [
        {
          "output_type": "error",
          "ename": "TypeError",
          "evalue": "ignored",
          "traceback": [
            "\u001b[0;31m---------------------------------------------------------------------------\u001b[0m",
            "\u001b[0;31mTypeError\u001b[0m                                 Traceback (most recent call last)",
            "\u001b[0;32m<ipython-input-34-1402a6ce5d67>\u001b[0m in \u001b[0;36m<module>\u001b[0;34m()\u001b[0m\n\u001b[1;32m      1\u001b[0m \u001b[0;32mimport\u001b[0m \u001b[0mdatetime\u001b[0m\u001b[0;34m\u001b[0m\u001b[0;34m\u001b[0m\u001b[0m\n\u001b[0;32m----> 2\u001b[0;31m \u001b[0md1\u001b[0m \u001b[0;34m=\u001b[0m \u001b[0mdatetime\u001b[0m\u001b[0;34m(\u001b[0m\u001b[0;36m2017\u001b[0m\u001b[0;34m,\u001b[0m\u001b[0;36m2\u001b[0m\u001b[0;34m,\u001b[0m\u001b[0;36m22\u001b[0m\u001b[0;34m,\u001b[0m\u001b[0;36m9\u001b[0m\u001b[0;34m,\u001b[0m\u001b[0;36m30\u001b[0m\u001b[0;34m)\u001b[0m\u001b[0;34m\u001b[0m\u001b[0;34m\u001b[0m\u001b[0m\n\u001b[0m\u001b[1;32m      3\u001b[0m \u001b[0md2\u001b[0m \u001b[0;34m=\u001b[0m \u001b[0mdatetime\u001b[0m\u001b[0;34m(\u001b[0m\u001b[0;36m2017\u001b[0m\u001b[0;34m,\u001b[0m\u001b[0;36m2\u001b[0m\u001b[0;34m,\u001b[0m\u001b[0;36m22\u001b[0m\u001b[0;34m,\u001b[0m\u001b[0;36m10\u001b[0m\u001b[0;34m,\u001b[0m\u001b[0;36m45\u001b[0m\u001b[0;34m)\u001b[0m\u001b[0;34m\u001b[0m\u001b[0;34m\u001b[0m\u001b[0m\n",
            "\u001b[0;31mTypeError\u001b[0m: 'module' object is not callable"
          ]
        }
      ]
    },
    {
      "cell_type": "code",
      "metadata": {
        "id": "6B14dJ7yZ7dF",
        "colab_type": "code",
        "outputId": "29c9e4df-affc-4b1b-9296-500c09a2d5d4",
        "colab": {
          "base_uri": "https://localhost:8080/",
          "height": 68
        }
      },
      "source": [
        "#Suppose that you have dictionaries with word frequencies. Each dictionary has \n",
        "#strings for the keys and numbers for the values (representing the frequencies \n",
        "#of the words in the strings). Here is an example dictionary:\n",
        "\n",
        "#word_freq = {'the':58,'people':6,'beautiful':8,'cats':13}\n",
        "\n",
        "#Write a function that takes as parameters a word frequency dictionary and a \n",
        "#threshold number that is an integer. This function should return a result \n",
        "#that is a list of all the words whose frequency is greater than the threshold.\n",
        "\n",
        "#For example, suppose that you name your function top_words. If you call the \n",
        "#function with the above dictionary and the threshold of 10:\n",
        "\n",
        "#top_words(word_freq, 10)\n",
        "\n",
        "#you should get the result\n",
        "#['the', 'cats'],\n",
        "#where the words can occur in any order.\n",
        "\n",
        "#Please submit the code for this function and the output using the word \n",
        "#frequency dictionary listed below. Please show the output of your code \n",
        "#using three separate threshold numbers:\n",
        "\n",
        "\n",
        "def top_words(word_freq,x):\n",
        "  print_words = [ ]\n",
        "  for items in word_freq.items():\n",
        "    if items[1] < x:\n",
        "      continue\n",
        "    else:\n",
        "      print_words.append(items[0])\n",
        "  return print_words\n",
        "      \n",
        "word_freq = {'the':58, 'people':6, 'beautiful':8, 'cats':13, \n",
        "             'finally':9, 'this': 19, 'class': 21, 'is': 101, 'almost': 1, 'over':4}   \n",
        "    \n",
        "print(top_words(word_freq,5))\n",
        "print(top_words(word_freq,20))\n",
        "print(top_words(word_freq,100))"
      ],
      "execution_count": 57,
      "outputs": [
        {
          "output_type": "stream",
          "text": [
            "['the', 'people', 'beautiful', 'cats', 'finally', 'this', 'class', 'is']\n",
            "['the', 'class', 'is']\n",
            "['is']\n"
          ],
          "name": "stdout"
        }
      ]
    },
    {
      "cell_type": "code",
      "metadata": {
        "id": "TCRtb-mYegbL",
        "colab_type": "code",
        "colab": {}
      },
      "source": [
        "#For this question, you are to write a program that reads the data in the file EUR.pop.rev.csv. \n",
        "#For each line in this file there is a country and seven population numbers between 1989 and 1995.\n",
        "\n",
        "#Choose one of the following to accomplish:\n",
        "\n",
        "#b. Read the data into a pandas DataFrame using read_csv function.\n",
        "\n",
        "#Your program must also accomplish all of the following:\n",
        "\n",
        "#1. Replace missing data with 0\n",
        "#2. Print each country that has more than 1,000,000 people in 1995\n",
        "#3. Print the average population in the United Kingdom over those seven years\n",
        "\n",
        "#Submit your code along with the output of your program.\n",
        "\n",
        "#You can use code from the class as a template, but it is essential to use \n",
        "#appropriate variable names throughout and that you write original comments for what your program does."
      ],
      "execution_count": 0,
      "outputs": []
    },
    {
      "cell_type": "code",
      "metadata": {
        "id": "ECuLq4lZflsn",
        "colab_type": "code",
        "colab": {
          "base_uri": "https://localhost:8080/",
          "height": 51
        },
        "outputId": "1a9d1b6e-9fd3-4577-8080-6996a575b5a3"
      },
      "source": [
        "#Read the data into a pandas DF using read_cvs function\n",
        "df = pd.read_csv(\"//eur.pop.rev.csv\")\n",
        "\n",
        "#set column names\n",
        "df.columns = ['Country','1989','1990','1991','1992','1993','1994','1995']\n",
        "\n",
        "#remove rows with at least 2 NaN\n",
        "df=df.dropna(thresh=2)\n",
        "\n",
        "#replace missing data with 0\n",
        "df = df.fillna(0)\n",
        "\n",
        "#remove first row and reset index\n",
        "df = df.drop(df.index[0])\n",
        "df = df.reset_index(drop=True)\n",
        "df\n",
        "\n",
        "#Set row values as integers\n",
        "df['1989'] = df['1989'].astype(int)\n",
        "df['1990'] = df['1990'].astype(int)\n",
        "df['1991'] = df['1991'].astype(int)\n",
        "df['1992'] = df['1992'].astype(int)\n",
        "df['1993'] = df['1993'].astype(int)\n",
        "df['1994'] = df['1994'].astype(int)\n",
        "df['1995'] = df['1995'].astype(int)\n",
        "\n",
        "\n",
        "#print each country that has more than 1,000,000 people in 1995\n",
        "df_pop = df[df[\"1995\"] > 1000000]\n",
        "print(df_pop['Country'])\n",
        "\n",
        "#print the avg population in the UK over the 7 years\n",
        "df_uk = df.loc[df.Country == 'United Kingdom']\n",
        "print(df_uk.mean(axis=1))"
      ],
      "execution_count": 153,
      "outputs": [
        {
          "output_type": "stream",
          "text": [
            "16   58062861.43\n",
            "dtype: float64\n"
          ],
          "name": "stdout"
        }
      ]
    }
  ]
}