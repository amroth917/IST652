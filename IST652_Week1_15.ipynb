{
  "nbformat": 4,
  "nbformat_minor": 0,
  "metadata": {
    "colab": {
      "name": "IST652_Week1_15.ipynb",
      "version": "0.3.2",
      "provenance": [],
      "collapsed_sections": [],
      "include_colab_link": true
    },
    "kernelspec": {
      "name": "python3",
      "display_name": "Python 3"
    }
  },
  "cells": [
    {
      "cell_type": "markdown",
      "metadata": {
        "id": "view-in-github",
        "colab_type": "text"
      },
      "source": [
        "<a href=\"https://colab.research.google.com/github/amroth917/IST652/blob/master/IST652_Week1_15.ipynb\" target=\"_parent\"><img src=\"https://colab.research.google.com/assets/colab-badge.svg\" alt=\"Open In Colab\"/></a>"
      ]
    },
    {
      "cell_type": "markdown",
      "metadata": {
        "id": "G3GhaQPDGAp1",
        "colab_type": "text"
      },
      "source": [
        "Allison Roth\n",
        "July 25, 2019\n",
        "Week 2\n",
        "Tuples"
      ]
    },
    {
      "cell_type": "markdown",
      "metadata": {
        "id": "NVkoSmvdGIuO",
        "colab_type": "text"
      },
      "source": [
        "Create a sequence of items in Python. The sequence should include at least five items. Identify the length of the tuple and list the items in your tuple using Python.\n",
        "\n",
        "Capture the commands you used and the results you got in a text document and submit it here."
      ]
    },
    {
      "cell_type": "code",
      "metadata": {
        "id": "gzcIyUOyF9qA",
        "colab_type": "code",
        "colab": {
          "base_uri": "https://localhost:8080/",
          "height": 51
        },
        "outputId": "abbdb47f-c5b5-496b-aaea-9a7b8e805810"
      },
      "source": [
        "my_tuple = (\"p\",\"l\",\"e\",\"a\",\"s\",\"e\")\n",
        "print(\"Tuple Length : \", len(my_tuple))\n",
        "print(\"Tuple Items: \", my_tuple)\n",
        "    "
      ],
      "execution_count": 7,
      "outputs": [
        {
          "output_type": "stream",
          "text": [
            "Tuple Length :  6\n",
            "Tuple Items:  ('p', 'l', 'e', 'a', 's', 'e')\n"
          ],
          "name": "stdout"
        }
      ]
    },
    {
      "cell_type": "markdown",
      "metadata": {
        "id": "J5LbzTYqNQKq",
        "colab_type": "text"
      },
      "source": [
        "Example"
      ]
    },
    {
      "cell_type": "code",
      "metadata": {
        "id": "li8uDWniNQ2i",
        "colab_type": "code",
        "colab": {
          "base_uri": "https://localhost:8080/",
          "height": 130
        },
        "outputId": "21633ab1-6e75-49ce-d380-0b4b874f65d9"
      },
      "source": [
        "#An example of a tuple:\n",
        "\n",
        ">>> fruittuple = ('acai', 'cherry', 'apple', 'pear')\n",
        ">>> type(fruittuple)\n",
        "<class 'tuple'>\n",
        ">>> len(fruittuple)\n",
        "4\n",
        ">>> fruittuple\n",
        "('acai', 'cherry', 'apple', 'pear')\n",
        "\n",
        "#Another example:\n",
        "\n",
        ">>> friends=('Debbie', 'Don', 'Sally', 'Jerry', 'Sam', 'Warren')\n",
        ">>> type(friends)\n",
        "<class 'tuple'>\n",
        ">>> len(friends)\n",
        "6\n",
        ">>> friends[0]\n",
        "'Debbie'\n",
        ">>> friedns[1]\n",
        "Traceback (most recent call last):\n",
        "  File \"<stdin>\", line 1, in <module>\n",
        "NameError: name 'friedns' is not defined\n",
        ">>> friends[1]\n",
        "'Don'\n",
        ">>> friends\n",
        "('Debbie', 'Don', 'Sally', 'Jerry', 'Sam', 'Warren')\n",
        "\n",
        "#Note the syntax error in the code..."
      ],
      "execution_count": 9,
      "outputs": [
        {
          "output_type": "error",
          "ename": "SyntaxError",
          "evalue": "ignored",
          "traceback": [
            "\u001b[0;36m  File \u001b[0;32m\"<ipython-input-9-1f288b094807>\"\u001b[0;36m, line \u001b[0;32m4\u001b[0m\n\u001b[0;31m    <class 'tuple'>\u001b[0m\n\u001b[0m    ^\u001b[0m\n\u001b[0;31mSyntaxError\u001b[0m\u001b[0;31m:\u001b[0m invalid syntax\n"
          ]
        }
      ]
    }
  ]
}