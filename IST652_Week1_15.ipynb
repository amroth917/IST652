{
  "nbformat": 4,
  "nbformat_minor": 0,
  "metadata": {
    "colab": {
      "name": "IST652_Week1_15.ipynb",
      "version": "0.3.2",
      "provenance": [],
      "collapsed_sections": [],
      "include_colab_link": true
    },
    "kernelspec": {
      "name": "python3",
      "display_name": "Python 3"
    }
  },
  "cells": [
    {
      "cell_type": "markdown",
      "metadata": {
        "id": "view-in-github",
        "colab_type": "text"
      },
      "source": [
        "<a href=\"https://colab.research.google.com/github/amroth917/IST652/blob/master/IST652_Week1_15.ipynb\" target=\"_parent\"><img src=\"https://colab.research.google.com/assets/colab-badge.svg\" alt=\"Open In Colab\"/></a>"
      ]
    },
    {
      "cell_type": "markdown",
      "metadata": {
        "id": "G3GhaQPDGAp1",
        "colab_type": "text"
      },
      "source": [
        "Allison Roth\n",
        "July 25, 2019\n",
        "Week 2\n",
        "Tuples"
      ]
    },
    {
      "cell_type": "markdown",
      "metadata": {
        "id": "NVkoSmvdGIuO",
        "colab_type": "text"
      },
      "source": [
        "Create a sequence of items in Python. The sequence should include at least five items. Identify the length of the tuple and list the items in your tuple using Python.\n",
        "\n",
        "Capture the commands you used and the results you got in a text document and submit it here."
      ]
    },
    {
      "cell_type": "code",
      "metadata": {
        "id": "gzcIyUOyF9qA",
        "colab_type": "code",
        "colab": {
          "base_uri": "https://localhost:8080/",
          "height": 51
        },
        "outputId": "abbdb47f-c5b5-496b-aaea-9a7b8e805810"
      },
      "source": [
        "my_tuple = (\"p\",\"l\",\"e\",\"a\",\"s\",\"e\")\n",
        "print(\"Tuple Length : \", len(my_tuple))\n",
        "print(\"Tuple Items: \", my_tuple)\n",
        "    "
      ],
      "execution_count": 7,
      "outputs": [
        {
          "output_type": "stream",
          "text": [
            "Tuple Length :  6\n",
            "Tuple Items:  ('p', 'l', 'e', 'a', 's', 'e')\n"
          ],
          "name": "stdout"
        }
      ]
    }
  ]
}