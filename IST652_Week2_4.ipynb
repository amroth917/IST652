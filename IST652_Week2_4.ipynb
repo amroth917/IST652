{
  "nbformat": 4,
  "nbformat_minor": 0,
  "metadata": {
    "colab": {
      "name": "IST652_Week2_4.ipynb",
      "version": "0.3.2",
      "provenance": [],
      "collapsed_sections": [],
      "include_colab_link": true
    },
    "kernelspec": {
      "name": "python3",
      "display_name": "Python 3"
    }
  },
  "cells": [
    {
      "cell_type": "markdown",
      "metadata": {
        "id": "view-in-github",
        "colab_type": "text"
      },
      "source": [
        "<a href=\"https://colab.research.google.com/github/amroth917/IST652/blob/master/IST652_Week2_4.ipynb\" target=\"_parent\"><img src=\"https://colab.research.google.com/assets/colab-badge.svg\" alt=\"Open In Colab\"/></a>"
      ]
    },
    {
      "cell_type": "markdown",
      "metadata": {
        "id": "G3GhaQPDGAp1",
        "colab_type": "text"
      },
      "source": [
        "Allison Roth\n",
        "July 25, 2019\n",
        "Week 2\n",
        "Writing a Program"
      ]
    },
    {
      "cell_type": "markdown",
      "metadata": {
        "id": "NVkoSmvdGIuO",
        "colab_type": "text"
      },
      "source": [
        "Week 2.4 - Writing a Program\n",
        "\n",
        "Comments in program start with #\n",
        "\n",
        "Let's write a program to calculate area of a rectangle \n",
        "\n",
        "Get the input from user\n",
        "\n",
        "calculate the area and print the result\n",
        "\n",
        "Save the program in your program directory\n",
        "1. Open an Anaconda prompt window\n",
        "2. md programs\n",
        "3. cd programs\n",
        "4. copy your program file here\n",
        "5. run it in Python\n",
        "\n",
        "\n",
        "\n",
        "\n",
        "\n",
        "#Name of File:  RectangleArea.py\n",
        "#Date Created: April 4, 2018\n",
        "#Created by:  Deb Landowski\n",
        "#Purpose of Program:  To generate the area of a rectangle\n",
        "#\n",
        "#\n",
        "length = input('Enter length of Rectangle: ')\n",
        "width = input('Enter width of Rectangle: ')\n",
        "#\n",
        "#Calculate area\n",
        "area = float(length) * float(width)\n",
        "print ('The AREA of the Rectangle is: ', area)."
      ]
    },
    {
      "cell_type": "code",
      "metadata": {
        "id": "xEuKK6J-RqDx",
        "colab_type": "code",
        "colab": {
          "base_uri": "https://localhost:8080/",
          "height": 68
        },
        "outputId": "e7e786f9-3ea8-43c9-b7d7-1aa04983cf8a"
      },
      "source": [
        "#This program gets info from user and calculates pay\n",
        "#gets the hours and rate\n",
        "hours=input('Enter Hours: ')\n",
        "rate=input('Enter Rate: ')\n",
        "#compute the pay by converting the input strings and multiplying\n",
        "pay=int(hours) * float(rate)\n",
        "print('Pay: ',pay)\n",
        "\n",
        "#Results when program was executed:\n",
        "\n",
        "#Enter Hours: 27\n",
        "#Enter Rate: 12.50\n",
        "#Pay:  337.5"
      ],
      "execution_count": 13,
      "outputs": [
        {
          "output_type": "stream",
          "text": [
            "Enter Hours: 40\n",
            "Enter Rate: 90\n",
            "Pay:  3600.0\n"
          ],
          "name": "stdout"
        }
      ]
    }
  ]
}