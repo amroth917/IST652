{
  "nbformat": 4,
  "nbformat_minor": 0,
  "metadata": {
    "colab": {
      "name": "Roth_Allison_Lab2.ipynb",
      "version": "0.3.2",
      "provenance": [],
      "collapsed_sections": [],
      "include_colab_link": true
    },
    "kernelspec": {
      "name": "python3",
      "display_name": "Python 3"
    }
  },
  "cells": [
    {
      "cell_type": "markdown",
      "metadata": {
        "id": "view-in-github",
        "colab_type": "text"
      },
      "source": [
        "<a href=\"https://colab.research.google.com/github/amroth917/IST652/blob/master/Roth_Allison_Lab2.ipynb\" target=\"_parent\"><img src=\"https://colab.research.google.com/assets/colab-badge.svg\" alt=\"Open In Colab\"/></a>"
      ]
    },
    {
      "cell_type": "markdown",
      "metadata": {
        "id": "G3GhaQPDGAp1",
        "colab_type": "text"
      },
      "source": [
        "Allison Roth\n",
        "July 25, 2019\n",
        "Lab 2\n",
        "IST652\n"
      ]
    },
    {
      "cell_type": "code",
      "metadata": {
        "id": "izH4pHEvEotq",
        "colab_type": "code",
        "colab": {
          "base_uri": "https://localhost:8080/",
          "height": 51
        },
        "outputId": "19e0cbd8-ce3f-4bd8-b7e7-257ea8ef7b96"
      },
      "source": [
        "stock = {\"banana\": 6, \"apple\": 0, \"orange\": 32, \"pear\": 15}\n",
        "prices = {\"banana\": 4, \"apple\": 2, \"orange\": 1.5, \"pear\": 3}\n",
        "\n",
        "#A - Show the expression that gets the value of the stock dictionary at the key ‘orange’. \n",
        "print(stock['orange'])\n",
        "\n",
        "#Show a statement that adds an item to the stock dictionary called ‘cherry’ with some integer value and that adds ‘cherry’ to the prices dictionary with a numeric value. \n",
        "stock['cherry'] = '3'\n",
        "\n",
        "stock\n",
        "\n",
        "prices['cherry'] = '5'\n",
        "\n",
        "prices"
      ],
      "execution_count": 206,
      "outputs": [
        {
          "output_type": "stream",
          "text": [
            "32\n"
          ],
          "name": "stdout"
        },
        {
          "output_type": "execute_result",
          "data": {
            "text/plain": [
              "{'apple': 2, 'banana': 4, 'cherry': '5', 'orange': 1.5, 'pear': 3}"
            ]
          },
          "metadata": {
            "tags": []
          },
          "execution_count": 206
        }
      ]
    },
    {
      "cell_type": "code",
      "metadata": {
        "id": "k6XMAX6kF3WN",
        "colab_type": "code",
        "colab": {
          "base_uri": "https://localhost:8080/",
          "height": 102
        },
        "outputId": "0c1e2689-b355-4917-e76f-04a12c5b9c75"
      },
      "source": [
        "#B - Write the code for a loop that iterates over the stock dictionary and prints each key and value.\n",
        "for key in stock:\n",
        "  print(key, stock[key])\n"
      ],
      "execution_count": 207,
      "outputs": [
        {
          "output_type": "stream",
          "text": [
            "banana 6\n",
            "apple 0\n",
            "orange 32\n",
            "pear 15\n",
            "cherry 3\n"
          ],
          "name": "stdout"
        }
      ]
    },
    {
      "cell_type": "code",
      "metadata": {
        "id": "8241ubmwGoLv",
        "colab_type": "code",
        "colab": {
          "base_uri": "https://localhost:8080/",
          "height": 34
        },
        "outputId": "b762057d-f319-41ff-cbe6-e06c895ad75c"
      },
      "source": [
        "#C - Suppose that we have a list: groceries = [‘apple’, ‘banana’, ‘pear’] \n",
        "# Write the code that will sum the total number in stock of the items in the groceries list.\n",
        "\n",
        "groceries = [\"apple\", \"banana\", \"pear\"] \n",
        "\n",
        "# treat the list as a set\n",
        "# https://stackoverflow.com/questions/15385308/how-to-compare-list-values-with-dictionary-keys-and-make-a-new-dictionary-of-it \n",
        "grocerylist = {key: stock[key] for key in stock.keys() & set(groceries)}\n",
        "grocerylist\n",
        "\n",
        "print(\"Total in stock items on grocery list:\",sum(grocerylist.values()))"
      ],
      "execution_count": 209,
      "outputs": [
        {
          "output_type": "execute_result",
          "data": {
            "text/plain": [
              "{'apple': 0, 'banana': 6, 'pear': 15}"
            ]
          },
          "metadata": {
            "tags": []
          },
          "execution_count": 209
        }
      ]
    },
    {
      "cell_type": "code",
      "metadata": {
        "id": "OFtzIJLvMnZ1",
        "colab_type": "code",
        "colab": {
          "base_uri": "https://localhost:8080/",
          "height": 102
        },
        "outputId": "e9038afc-ef9a-4106-bb4b-f1d8009e9c41"
      },
      "source": [
        "#D - Write the code that can print out the total value in stock of all the items. This program can iterate over the stock dictionary \n",
        "#and for each item multiply the number in stock times the price of that item in the prices dictionary. (This can include the items \n",
        "#for ‘cherry’ or not, as you choose.)\n",
        "from decimal import *\n",
        "  \n",
        "for key in stock:\n",
        " print(\"Total value of\", key, \"is\", Decimal(stock[key])*Decimal(prices[key]))"
      ],
      "execution_count": 241,
      "outputs": [
        {
          "output_type": "stream",
          "text": [
            "Total value of: banana is 24\n",
            "Total value of: apple is 0\n",
            "Total value of: orange is 48.0\n",
            "Total value of: pear is 45\n",
            "Total value of: cherry is 15\n"
          ],
          "name": "stdout"
        }
      ]
    }
  ]
}