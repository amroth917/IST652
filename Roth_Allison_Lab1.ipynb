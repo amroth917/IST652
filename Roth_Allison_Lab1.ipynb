{
  "nbformat": 4,
  "nbformat_minor": 0,
  "metadata": {
    "colab": {
      "name": "Roth_Allison_Lab1.ipynb",
      "version": "0.3.2",
      "provenance": [],
      "collapsed_sections": [],
      "include_colab_link": true
    },
    "kernelspec": {
      "name": "python3",
      "display_name": "Python 3"
    }
  },
  "cells": [
    {
      "cell_type": "markdown",
      "metadata": {
        "id": "view-in-github",
        "colab_type": "text"
      },
      "source": [
        "<a href=\"https://colab.research.google.com/github/amroth917/IST652/blob/master/Roth_Allison_Lab1.ipynb\" target=\"_parent\"><img src=\"https://colab.research.google.com/assets/colab-badge.svg\" alt=\"Open In Colab\"/></a>"
      ]
    },
    {
      "cell_type": "markdown",
      "metadata": {
        "id": "G3GhaQPDGAp1",
        "colab_type": "text"
      },
      "source": [
        "Allison Roth\n",
        "July 25, 2019\n",
        "Lab 1\n"
      ]
    },
    {
      "cell_type": "markdown",
      "metadata": {
        "id": "olf2ekMieLTz",
        "colab_type": "text"
      },
      "source": [
        "Lab ONE:\n",
        "For the NBAfile.py program, for each line, create a string using string formatting that puts the\n",
        "team, attendance, and ticket prices into a formatted string. Each line should look something like:\n",
        "‘The attendance at Atlanta was 13993 and the ticket price was $20.06’\n",
        "Your program should then print these strings instead of the lines. Submit your code and the\n",
        "output of your program.\n",
        "DUE 24 hours before the live session in Week 3."
      ]
    },
    {
      "cell_type": "code",
      "metadata": {
        "id": "b4v3BOZA0sew",
        "colab_type": "code",
        "colab": {
          "base_uri": "https://localhost:8080/",
          "height": 476
        },
        "outputId": "e81facc6-603d-47bc-e803-b18d98e23502"
      },
      "source": [
        "NBAfile = open ('nba-attendance-1989.txt', 'r')\n",
        "NBAlist = []\n",
        "\n",
        "for i in NBAfile:\n",
        "\n",
        "    items = i.strip().split()\n",
        "\n",
        "    NBAlist.append(items)\n",
        "    \n",
        "for line in NBAfile:\n",
        "\n",
        "    # strip the newline at the end of the line (and other white space from ends)\n",
        "\n",
        "    textline = line.strip()\n",
        "\n",
        "    # split the line on whitespace\n",
        "\n",
        "    items = textline.split()\n",
        "\n",
        "    # add the list of items to the NBAlist\n",
        "    \n",
        "    NBAlist.append(items)\n",
        "\n",
        "# print the lines from the list\n",
        "\n",
        "count = 0\n",
        "for line in NBAlist:\n",
        "    print (\"The attendance at\", NBAlist[count][0],\"was\", NBAlist[count][1],\"and the ticket price was $\",NBAlist[count][2])\n",
        "    count += 1\n",
        "    "
      ],
      "execution_count": 124,
      "outputs": [
        {
          "output_type": "stream",
          "text": [
            "The attendance at Atlanta was 13993 and the ticket price was $ 20.06\n",
            "The attendance at Boston was 14916 and the ticket price was $ 22.54\n",
            "The attendance at Charlotte was 23901 and the ticket price was $ 17\n",
            "The attendance at Chicago was 18404 and the ticket price was $ 21.98\n",
            "The attendance at Cleveland was 16969 and the ticket price was $ 19.63\n",
            "The attendance at Dallas was 16868 and the ticket price was $ 17.05\n",
            "The attendance at Denver was 12668 and the ticket price was $ 17.4\n",
            "The attendance at Detroit was 21454 and the ticket price was $ 24.42\n",
            "The attendance at Golden_State was 15025 and the ticket price was $ 17.04\n",
            "The attendance at Houston was 15846 and the ticket price was $ 17.56\n",
            "The attendance at Indiana was 12885 and the ticket price was $ 13.77\n",
            "The attendance at LA_Clippers was 11869 and the ticket price was $ 21.95\n",
            "The attendance at LA_Lakers was 17378 and the ticket price was $ 29.18\n",
            "The attendance at Miami was 15008 and the ticket price was $ 17.6\n",
            "The attendance at Milwaukee was 16088 and the ticket price was $ 14.08\n",
            "The attendance at Minnesota was 26160 and the ticket price was $ 10.92\n",
            "The attendance at New_Jersey was 12160 and the ticket price was $ 13.31\n",
            "The attendance at New_York was 17815 and the ticket price was $ 22.7\n",
            "The attendance at Orlando was 15606 and the ticket price was $ 20.47\n",
            "The attendance at Philadelphia was 14017 and the ticket price was $ 19.04\n",
            "The attendance at Phoenix was 14114 and the ticket price was $ 16.59\n",
            "The attendance at Portland was 12884 and the ticket price was $ 22.19\n",
            "The attendance at Sacramento was 17014 and the ticket price was $ 16.96\n",
            "The attendance at San_Antonio was 14722 and the ticket price was $ 16.79\n",
            "The attendance at Seattle was 12244 and the ticket price was $ 18.11\n",
            "The attendance at Utah was 12616 and the ticket price was $ 18.41\n",
            "The attendance at Washington was 11565 and the ticket price was $ 14.55\n"
          ],
          "name": "stdout"
        }
      ]
    }
  ]
}