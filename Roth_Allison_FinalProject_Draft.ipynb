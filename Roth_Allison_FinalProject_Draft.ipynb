{
  "nbformat": 4,
  "nbformat_minor": 0,
  "metadata": {
    "colab": {
      "name": "Roth_Allison_FinalProject.ipynb",
      "version": "0.3.2",
      "provenance": [],
      "collapsed_sections": [],
      "include_colab_link": true
    },
    "kernelspec": {
      "name": "python3",
      "display_name": "Python 3"
    }
  },
  "cells": [
    {
      "cell_type": "markdown",
      "metadata": {
        "id": "view-in-github",
        "colab_type": "text"
      },
      "source": [
        "<a href=\"https://colab.research.google.com/github/amroth917/IST652/blob/master/Roth_Allison_FinalProject_Draft.ipynb\" target=\"_parent\"><img src=\"https://colab.research.google.com/assets/colab-badge.svg\" alt=\"Open In Colab\"/></a>"
      ]
    },
    {
      "cell_type": "markdown",
      "metadata": {
        "id": "G3GhaQPDGAp1",
        "colab_type": "text"
      },
      "source": [
        "Allison Roth\n",
        "September 3, 2019\n",
        "Final Project\n",
        "IST652\n"
      ]
    },
    {
      "cell_type": "code",
      "metadata": {
        "id": "FRfViULGMVgP",
        "colab_type": "code",
        "colab": {}
      },
      "source": [
        "# Set wd in Google CoLab\n",
        "from google.colab import drive\n",
        "drive.mount('/content/drive')\n",
        "\n",
        "import json\n",
        "import sys\n",
        "import pandas as pd\n",
        "import numpy as np\n",
        "import decimal\n",
        "from decimal import *\n",
        "import seaborn as sns\n",
        "import matplotlib\n",
        "import matplotlib.pyplot as plt\n",
        "from pandas.plotting import parallel_coordinates"
      ],
      "execution_count": 0,
      "outputs": []
    },
    {
      "cell_type": "code",
      "metadata": {
        "id": "1VNpHMcLTYO8",
        "colab_type": "code",
        "colab": {}
      },
      "source": [
        "#Read in all of the data into seperate files. \n",
        "veterans2011 = pd.read_csv(\"//2011.csv\", index_col=0)\n",
        "veterans2010 = pd.read_csv(\"//2010.csv\", index_col=0)\n",
        "veterans2009 = pd.read_csv(\"//2009.csv\", index_col=0)\n",
        "veterans2008 = pd.read_csv(\"//2008.csv\", index_col=0)\n",
        "veterans2007 = pd.read_csv(\"//2007.csv\", index_col=0)\n",
        "veterans2006 = pd.read_csv(\"//2006.csv\", index_col=0)\n",
        "veterans2005 = pd.read_csv(\"//2005.csv\", index_col=0)\n"
      ],
      "execution_count": 0,
      "outputs": []
    },
    {
      "cell_type": "code",
      "metadata": {
        "id": "Wlyuq1IATrri",
        "colab_type": "code",
        "colab": {
          "base_uri": "https://localhost:8080/",
          "height": 241
        },
        "outputId": "67d6c347-2a58-47f2-f48b-b6b0ab4ea420"
      },
      "source": [
        "#Checking the head of the first dataset\n",
        "veterans2011.head(5)"
      ],
      "execution_count": 7,
      "outputs": [
        {
          "output_type": "execute_result",
          "data": {
            "text/html": [
              "<div>\n",
              "<style scoped>\n",
              "    .dataframe tbody tr th:only-of-type {\n",
              "        vertical-align: middle;\n",
              "    }\n",
              "\n",
              "    .dataframe tbody tr th {\n",
              "        vertical-align: top;\n",
              "    }\n",
              "\n",
              "    .dataframe thead th {\n",
              "        text-align: right;\n",
              "    }\n",
              "</style>\n",
              "<table border=\"1\" class=\"dataframe\">\n",
              "  <thead>\n",
              "    <tr style=\"text-align: right;\">\n",
              "      <th></th>\n",
              "      <th>state</th>\n",
              "      <th>vet_pop</th>\n",
              "      <th>overall_pop_18</th>\n",
              "      <th>vet_pop_p</th>\n",
              "      <th>vet_suicides</th>\n",
              "      <th>all_suicides</th>\n",
              "      <th>vet_suicides_p</th>\n",
              "      <th>vet_males</th>\n",
              "      <th>vet_males_p</th>\n",
              "      <th>vet_females</th>\n",
              "      <th>vet_females_p</th>\n",
              "      <th>vet_15_24</th>\n",
              "      <th>vet_18_29</th>\n",
              "      <th>vet_17_34</th>\n",
              "      <th>vet_25_34</th>\n",
              "      <th>vet_30_39</th>\n",
              "      <th>vet_25_44</th>\n",
              "      <th>vet_35_44</th>\n",
              "      <th>vet_40_49</th>\n",
              "      <th>vet_35-54</th>\n",
              "      <th>vet_45_54</th>\n",
              "      <th>vet_50_59</th>\n",
              "      <th>vet_45_64</th>\n",
              "      <th>vet_55_64</th>\n",
              "      <th>vet_60</th>\n",
              "      <th>vet_65</th>\n",
              "      <th>vet_rate</th>\n",
              "      <th>civ_rate</th>\n",
              "    </tr>\n",
              "  </thead>\n",
              "  <tbody>\n",
              "    <tr>\n",
              "      <th>0</th>\n",
              "      <td>Alabama</td>\n",
              "      <td>395753</td>\n",
              "      <td>3662910</td>\n",
              "      <td>0.108043</td>\n",
              "      <td>163</td>\n",
              "      <td>680</td>\n",
              "      <td>0.239706</td>\n",
              "      <td>NaN</td>\n",
              "      <td>0.000000</td>\n",
              "      <td>NaN</td>\n",
              "      <td>0.000000</td>\n",
              "      <td>NaN</td>\n",
              "      <td>NaN</td>\n",
              "      <td>NaN</td>\n",
              "      <td>NaN</td>\n",
              "      <td>NaN</td>\n",
              "      <td>NaN</td>\n",
              "      <td>NaN</td>\n",
              "      <td>NaN</td>\n",
              "      <td>NaN</td>\n",
              "      <td>NaN</td>\n",
              "      <td>NaN</td>\n",
              "      <td>NaN</td>\n",
              "      <td>NaN</td>\n",
              "      <td>NaN</td>\n",
              "      <td>NaN</td>\n",
              "      <td>41.187306</td>\n",
              "      <td>15.824155</td>\n",
              "    </tr>\n",
              "    <tr>\n",
              "      <th>1</th>\n",
              "      <td>Alaska</td>\n",
              "      <td>72407</td>\n",
              "      <td>517799</td>\n",
              "      <td>0.139836</td>\n",
              "      <td>27</td>\n",
              "      <td>142</td>\n",
              "      <td>0.190141</td>\n",
              "      <td>24.0</td>\n",
              "      <td>0.888889</td>\n",
              "      <td>3.0</td>\n",
              "      <td>0.111111</td>\n",
              "      <td>4.0</td>\n",
              "      <td>NaN</td>\n",
              "      <td>NaN</td>\n",
              "      <td>5.0</td>\n",
              "      <td>NaN</td>\n",
              "      <td>NaN</td>\n",
              "      <td>3.0</td>\n",
              "      <td>NaN</td>\n",
              "      <td>NaN</td>\n",
              "      <td>4.0</td>\n",
              "      <td>NaN</td>\n",
              "      <td>NaN</td>\n",
              "      <td>5.0</td>\n",
              "      <td>NaN</td>\n",
              "      <td>6.0</td>\n",
              "      <td>37.289212</td>\n",
              "      <td>25.819952</td>\n",
              "    </tr>\n",
              "    <tr>\n",
              "      <th>2</th>\n",
              "      <td>Arizona</td>\n",
              "      <td>533608</td>\n",
              "      <td>4842927</td>\n",
              "      <td>0.110183</td>\n",
              "      <td>242</td>\n",
              "      <td>1091</td>\n",
              "      <td>0.221815</td>\n",
              "      <td>NaN</td>\n",
              "      <td>0.000000</td>\n",
              "      <td>NaN</td>\n",
              "      <td>0.000000</td>\n",
              "      <td>NaN</td>\n",
              "      <td>NaN</td>\n",
              "      <td>NaN</td>\n",
              "      <td>NaN</td>\n",
              "      <td>NaN</td>\n",
              "      <td>NaN</td>\n",
              "      <td>NaN</td>\n",
              "      <td>NaN</td>\n",
              "      <td>NaN</td>\n",
              "      <td>NaN</td>\n",
              "      <td>NaN</td>\n",
              "      <td>NaN</td>\n",
              "      <td>NaN</td>\n",
              "      <td>NaN</td>\n",
              "      <td>NaN</td>\n",
              "      <td>45.351644</td>\n",
              "      <td>19.701489</td>\n",
              "    </tr>\n",
              "    <tr>\n",
              "      <th>3</th>\n",
              "      <td>Arkansas</td>\n",
              "      <td>238790</td>\n",
              "      <td>2221409</td>\n",
              "      <td>0.107495</td>\n",
              "      <td>89</td>\n",
              "      <td>447</td>\n",
              "      <td>0.199105</td>\n",
              "      <td>89.0</td>\n",
              "      <td>1.000000</td>\n",
              "      <td>0.0</td>\n",
              "      <td>0.000000</td>\n",
              "      <td>NaN</td>\n",
              "      <td>NaN</td>\n",
              "      <td>11.0</td>\n",
              "      <td>NaN</td>\n",
              "      <td>NaN</td>\n",
              "      <td>NaN</td>\n",
              "      <td>NaN</td>\n",
              "      <td>NaN</td>\n",
              "      <td>31.0</td>\n",
              "      <td>NaN</td>\n",
              "      <td>NaN</td>\n",
              "      <td>NaN</td>\n",
              "      <td>14.0</td>\n",
              "      <td>NaN</td>\n",
              "      <td>33.0</td>\n",
              "      <td>37.271243</td>\n",
              "      <td>18.056924</td>\n",
              "    </tr>\n",
              "    <tr>\n",
              "      <th>4</th>\n",
              "      <td>California</td>\n",
              "      <td>1910994</td>\n",
              "      <td>28292703</td>\n",
              "      <td>0.067544</td>\n",
              "      <td>706</td>\n",
              "      <td>3923</td>\n",
              "      <td>0.179964</td>\n",
              "      <td>679.0</td>\n",
              "      <td>0.961756</td>\n",
              "      <td>27.0</td>\n",
              "      <td>0.038244</td>\n",
              "      <td>20.0</td>\n",
              "      <td>NaN</td>\n",
              "      <td>NaN</td>\n",
              "      <td>NaN</td>\n",
              "      <td>NaN</td>\n",
              "      <td>80.0</td>\n",
              "      <td>NaN</td>\n",
              "      <td>NaN</td>\n",
              "      <td>NaN</td>\n",
              "      <td>NaN</td>\n",
              "      <td>NaN</td>\n",
              "      <td>250.0</td>\n",
              "      <td>NaN</td>\n",
              "      <td>NaN</td>\n",
              "      <td>356.0</td>\n",
              "      <td>36.944124</td>\n",
              "      <td>12.194055</td>\n",
              "    </tr>\n",
              "  </tbody>\n",
              "</table>\n",
              "</div>"
            ],
            "text/plain": [
              "        state  vet_pop  overall_pop_18  ...  vet_65   vet_rate   civ_rate\n",
              "0     Alabama   395753         3662910  ...     NaN  41.187306  15.824155\n",
              "1      Alaska    72407          517799  ...     6.0  37.289212  25.819952\n",
              "2     Arizona   533608         4842927  ...     NaN  45.351644  19.701489\n",
              "3    Arkansas   238790         2221409  ...    33.0  37.271243  18.056924\n",
              "4  California  1910994        28292703  ...   356.0  36.944124  12.194055\n",
              "\n",
              "[5 rows x 28 columns]"
            ]
          },
          "metadata": {
            "tags": []
          },
          "execution_count": 7
        }
      ]
    },
    {
      "cell_type": "code",
      "metadata": {
        "id": "HzRTa1qFl0Aw",
        "colab_type": "code",
        "colab": {
          "base_uri": "https://localhost:8080/",
          "height": 204
        },
        "outputId": "efc4b01b-4d43-4e93-fdad-4d7f33f48e5e"
      },
      "source": [
        "vetmax = veterans2011.loc[veterans2011['vet_suicides'].idxmax()]\n",
        "vetmax\n",
        "\n",
        "# Veteran Suicide Rate vs. Overall Suicide Rate\n",
        "# Realizing that we need to look at Veteran vs. civilian, not veteran vs. overall\n",
        "df_overall_rates = pd.DataFrame(\n",
        "    {'State': veterans2011['state'],\n",
        "     'veteran_rate': (veterans2011['vet_suicides'] / veterans2011['vet_pop']),\n",
        "     'overall_rate': (veterans2011['all_suicides'] / veterans2011['overall_pop_18'])\n",
        "     })\n",
        "df_overall_rates.head(5)\n",
        "\n",
        "\n",
        "#Fixed - Overall - Veteran = Civilian. Derp. \n",
        "df_rates = pd.DataFrame(\n",
        "    {'State': veterans2011['state'],\n",
        "     'veteran_rate': (veterans2011['vet_suicides'] / veterans2011['vet_pop']),\n",
        "     'civilian_rate': ((veterans2011['all_suicides'] - veterans2011['vet_suicides']) \n",
        "                       / (veterans2011['overall_pop_18'] - veterans2011['vet_pop']))\n",
        "     })\n",
        "df_rates.head(5)"
      ],
      "execution_count": 13,
      "outputs": [
        {
          "output_type": "execute_result",
          "data": {
            "text/html": [
              "<div>\n",
              "<style scoped>\n",
              "    .dataframe tbody tr th:only-of-type {\n",
              "        vertical-align: middle;\n",
              "    }\n",
              "\n",
              "    .dataframe tbody tr th {\n",
              "        vertical-align: top;\n",
              "    }\n",
              "\n",
              "    .dataframe thead th {\n",
              "        text-align: right;\n",
              "    }\n",
              "</style>\n",
              "<table border=\"1\" class=\"dataframe\">\n",
              "  <thead>\n",
              "    <tr style=\"text-align: right;\">\n",
              "      <th></th>\n",
              "      <th>State</th>\n",
              "      <th>veteran_rate</th>\n",
              "      <th>civilian_rate</th>\n",
              "    </tr>\n",
              "  </thead>\n",
              "  <tbody>\n",
              "    <tr>\n",
              "      <th>0</th>\n",
              "      <td>Alabama</td>\n",
              "      <td>0.000412</td>\n",
              "      <td>0.000158</td>\n",
              "    </tr>\n",
              "    <tr>\n",
              "      <th>1</th>\n",
              "      <td>Alaska</td>\n",
              "      <td>0.000373</td>\n",
              "      <td>0.000258</td>\n",
              "    </tr>\n",
              "    <tr>\n",
              "      <th>2</th>\n",
              "      <td>Arizona</td>\n",
              "      <td>0.000454</td>\n",
              "      <td>0.000197</td>\n",
              "    </tr>\n",
              "    <tr>\n",
              "      <th>3</th>\n",
              "      <td>Arkansas</td>\n",
              "      <td>0.000373</td>\n",
              "      <td>0.000181</td>\n",
              "    </tr>\n",
              "    <tr>\n",
              "      <th>4</th>\n",
              "      <td>California</td>\n",
              "      <td>0.000369</td>\n",
              "      <td>0.000122</td>\n",
              "    </tr>\n",
              "  </tbody>\n",
              "</table>\n",
              "</div>"
            ],
            "text/plain": [
              "        State  veteran_rate  civilian_rate\n",
              "0     Alabama      0.000412       0.000158\n",
              "1      Alaska      0.000373       0.000258\n",
              "2     Arizona      0.000454       0.000197\n",
              "3    Arkansas      0.000373       0.000181\n",
              "4  California      0.000369       0.000122"
            ]
          },
          "metadata": {
            "tags": []
          },
          "execution_count": 13
        }
      ]
    },
    {
      "cell_type": "code",
      "metadata": {
        "id": "cORoIjaZrpr0",
        "colab_type": "code",
        "colab": {
          "base_uri": "https://localhost:8080/",
          "height": 300
        },
        "outputId": "17538cf7-ce6f-42f6-e358-4366f6055e54"
      },
      "source": [
        "#Veteran Suicide Rate vs. Civilian Suicide Rate comparision\n",
        "#Positive correlation with some\n",
        "seaborn.regplot(x=df_rates[\"veteran_rate\"], y=df_rates[\"civilian_rate\"])\n"
      ],
      "execution_count": 51,
      "outputs": [
        {
          "output_type": "execute_result",
          "data": {
            "text/plain": [
              "<matplotlib.axes._subplots.AxesSubplot at 0x7f0dc2cefcc0>"
            ]
          },
          "metadata": {
            "tags": []
          },
          "execution_count": 51
        },
        {
          "output_type": "display_data",
          "data": {
            "image/png": "[encoded data removed]",
            "text/plain": [
              "<Figure size 432x288 with 1 Axes>"
            ]
          },
          "metadata": {
            "tags": []
          }
        }
      ]
    },
    {
      "cell_type": "code",
      "metadata": {
        "id": "4Edyg9OuvJAk",
        "colab_type": "code",
        "colab": {
          "base_uri": "https://localhost:8080/",
          "height": 204
        },
        "outputId": "7fb86821-e464-41f3-d7f6-c873b59d3db5"
      },
      "source": [
        "#Create df_rates data frame for each dataset\n",
        "#2005\n",
        "df_rates_2005 = pd.DataFrame(\n",
        "    {'State': veterans2005['state'],\n",
        "     'veteran_rate': (veterans2005['vet_suicides'] / veterans2005['vet_pop']),\n",
        "     'civilian_rate': ((veterans2005['all_suicides'] - veterans2005['vet_suicides']) \n",
        "                       / (veterans2005['overall_pop_18'] - veterans2005['vet_pop']))\n",
        "     })\n",
        "df_rates_2005.head(5)\n",
        "\n",
        "#2006\n",
        "df_rates_2006 = pd.DataFrame(\n",
        "    {'State': veterans2006['state'],\n",
        "     'veteran_rate': (veterans2006['vet_suicides'] / veterans2006['vet_pop']),\n",
        "     'civilian_rate': ((veterans2006['all_suicides'] - veterans2006['vet_suicides']) \n",
        "                       / (veterans2006['overall_pop_18'] - veterans2006['vet_pop']))\n",
        "     })\n",
        "df_rates_2006.head(5)\n",
        "\n",
        "#2007\n",
        "df_rates_2007 = pd.DataFrame(\n",
        "    {'State': veterans2007['state'],\n",
        "     'veteran_rate': (veterans2007['vet_suicides'] / veterans2007['vet_pop']),\n",
        "     'civilian_rate': ((veterans2007['all_suicides'] - veterans2007['vet_suicides']) \n",
        "                       / (veterans2007['overall_pop_18'] - veterans2007['vet_pop']))\n",
        "     })\n",
        "df_rates_2007.head(5)\n",
        "\n",
        "\n",
        "#2008\n",
        "df_rates_2008 = pd.DataFrame(\n",
        "    {'State': veterans2008['state'],\n",
        "     'veteran_rate': (veterans2008['vet_suicides'] / veterans2008['vet_pop']),\n",
        "     'civilian_rate': ((veterans2008['all_suicides'] - veterans2008['vet_suicides']) \n",
        "                       / (veterans2008['overall_pop_18'] - veterans2008['vet_pop']))\n",
        "     })\n",
        "df_rates_2008.head(5)\n",
        "\n",
        "#2009\n",
        "df_rates_2009 = pd.DataFrame(\n",
        "    {'State': veterans2009['state'],\n",
        "     'veteran_rate': (veterans2009['vet_suicides'] / veterans2009['vet_pop']),\n",
        "     'civilian_rate': ((veterans2009['all_suicides'] - veterans2009['vet_suicides']) \n",
        "                       / (veterans2009['overall_pop_18'] - veterans2009['vet_pop']))\n",
        "     })\n",
        "df_rates_2009.head(5)\n",
        "\n",
        "\n",
        "#2010\n",
        "df_rates_2010 = pd.DataFrame(\n",
        "    {'State': veterans2010['state'],\n",
        "     'veteran_rate': (veterans2010['vet_suicides'] / veterans2010['vet_pop']),\n",
        "     'civilian_rate': ((veterans2010['all_suicides'] - veterans2010['vet_suicides']) \n",
        "                       / (veterans2010['overall_pop_18'] - veterans2010['vet_pop']))\n",
        "     })\n",
        "df_rates_2010.head(5)\n",
        "\n",
        "#2011\n",
        "df_rates_2011 = pd.DataFrame(\n",
        "    {'State': veterans2011['state'],\n",
        "     'veteran_rate': (veterans2011['vet_suicides'] / veterans2011['vet_pop']),\n",
        "     'civilian_rate': ((veterans2011['all_suicides'] - veterans2011['vet_suicides']) \n",
        "                       / (veterans2011['overall_pop_18'] - veterans2011['vet_pop']))\n",
        "     })\n",
        "df_rates_2011.head(5)\n"
      ],
      "execution_count": 32,
      "outputs": [
        {
          "output_type": "execute_result",
          "data": {
            "text/html": [
              "<div>\n",
              "<style scoped>\n",
              "    .dataframe tbody tr th:only-of-type {\n",
              "        vertical-align: middle;\n",
              "    }\n",
              "\n",
              "    .dataframe tbody tr th {\n",
              "        vertical-align: top;\n",
              "    }\n",
              "\n",
              "    .dataframe thead th {\n",
              "        text-align: right;\n",
              "    }\n",
              "</style>\n",
              "<table border=\"1\" class=\"dataframe\">\n",
              "  <thead>\n",
              "    <tr style=\"text-align: right;\">\n",
              "      <th></th>\n",
              "      <th>State</th>\n",
              "      <th>veteran_rate</th>\n",
              "      <th>civilian_rate</th>\n",
              "    </tr>\n",
              "  </thead>\n",
              "  <tbody>\n",
              "    <tr>\n",
              "      <th>0</th>\n",
              "      <td>Alabama</td>\n",
              "      <td>0.000412</td>\n",
              "      <td>0.000158</td>\n",
              "    </tr>\n",
              "    <tr>\n",
              "      <th>1</th>\n",
              "      <td>Alaska</td>\n",
              "      <td>0.000373</td>\n",
              "      <td>0.000258</td>\n",
              "    </tr>\n",
              "    <tr>\n",
              "      <th>2</th>\n",
              "      <td>Arizona</td>\n",
              "      <td>0.000454</td>\n",
              "      <td>0.000197</td>\n",
              "    </tr>\n",
              "    <tr>\n",
              "      <th>3</th>\n",
              "      <td>Arkansas</td>\n",
              "      <td>0.000373</td>\n",
              "      <td>0.000181</td>\n",
              "    </tr>\n",
              "    <tr>\n",
              "      <th>4</th>\n",
              "      <td>California</td>\n",
              "      <td>0.000369</td>\n",
              "      <td>0.000122</td>\n",
              "    </tr>\n",
              "  </tbody>\n",
              "</table>\n",
              "</div>"
            ],
            "text/plain": [
              "        State  veteran_rate  civilian_rate\n",
              "0     Alabama      0.000412       0.000158\n",
              "1      Alaska      0.000373       0.000258\n",
              "2     Arizona      0.000454       0.000197\n",
              "3    Arkansas      0.000373       0.000181\n",
              "4  California      0.000369       0.000122"
            ]
          },
          "metadata": {
            "tags": []
          },
          "execution_count": 32
        }
      ]
    },
    {
      "cell_type": "code",
      "metadata": {
        "id": "wDPdLs9PxVW9",
        "colab_type": "code",
        "colab": {
          "base_uri": "https://localhost:8080/",
          "height": 320
        },
        "outputId": "98f0a639-9bd5-4390-f388-82144d626450"
      },
      "source": [
        "#Create a civilians dataset comparing the suicide rate from 2005-2011 by state\n",
        "df_civ_rates = pd.DataFrame({\n",
        "    #'State': df_rates_2011['State'],\n",
        "    'civ_2005': df_rates_2005['civilian_rate'],\n",
        "    'civ_2006': df_rates_2006['civilian_rate'],\n",
        "    'civ_2007': df_rates_2007['civilian_rate'],\n",
        "    'civ_2008': df_rates_2008['civilian_rate'],\n",
        "    'civ_2009': df_rates_2009['civilian_rate'],\n",
        "    'civ_2010': df_rates_2010['civilian_rate'],\n",
        "    'civ_2011': df_rates_2011['civilian_rate'],\n",
        "})\n",
        "\n",
        "df_civ_rates.head(5)\n",
        "\n",
        "\n",
        " \n",
        "# Default heatmap: just a visualization of this square matrix\n",
        "heat_civ = sns.heatmap(df_civ_rates)\n",
        "\n",
        "# Calculate correlation between each pair of variable\n",
        "civ_corr_matrix=df_civ_rates.corr()\n",
        " \n",
        "# plot it\n",
        "sns.heatmap(civ_corr_matrix, cmap='PuOr')\n",
        "\n",
        "\n"
      ],
      "execution_count": 57,
      "outputs": [
        {
          "output_type": "execute_result",
          "data": {
            "text/plain": [
              "<matplotlib.axes._subplots.AxesSubplot at 0x7f0dc24b9f60>"
            ]
          },
          "metadata": {
            "tags": []
          },
          "execution_count": 57
        },
        {
          "output_type": "display_data",
          "data": {
            "image/png": "[encoded data removed]",
            "text/plain": [
              "<Figure size 432x288 with 2 Axes>"
            ]
          },
          "metadata": {
            "tags": []
          }
        }
      ]
    },
    {
      "cell_type": "code",
      "metadata": {
        "id": "SZXnOXF7xWuP",
        "colab_type": "code",
        "colab": {
          "base_uri": "https://localhost:8080/",
          "height": 323
        },
        "outputId": "417b03a4-8656-4d4c-bb7b-8e35e9d12cc8"
      },
      "source": [
        "#Create a veterans dataset comparing the suicide rate from 2005-2011 by state\n",
        "df_vet_rates = pd.DataFrame({\n",
        "    #'State': df_rates_2011['State'],\n",
        "    'vet_2005': df_rates_2005['veteran_rate'],\n",
        "    'vet_2006': df_rates_2006['veteran_rate'],\n",
        "    'vet_2007': df_rates_2007['veteran_rate'],\n",
        "    'vet_2008': df_rates_2008['veteran_rate'],\n",
        "    'vet_2009': df_rates_2009['veteran_rate'],\n",
        "    'vet_2010': df_rates_2010['veteran_rate'],\n",
        "    'vet_2011': df_rates_2011['veteran_rate'],\n",
        "})\n",
        "\n",
        "df_vet_rates.head(5)\n",
        "\n",
        "\n",
        " \n",
        "# Default heatmap: just a visualization of this square matrix\n",
        "heat_vet = sns.heatmap(df_vet_rates)\n",
        "\n",
        "# Calculate correlation between each pair of variable\n",
        "vet_corr_matrix=df_vet_rates.corr()\n",
        " \n",
        "# plot it\n",
        "sns.heatmap(vet_corr_matrix, cmap='PuOr')\n"
      ],
      "execution_count": 58,
      "outputs": [
        {
          "output_type": "execute_result",
          "data": {
            "text/plain": [
              "<matplotlib.axes._subplots.AxesSubplot at 0x7f0dc244e5c0>"
            ]
          },
          "metadata": {
            "tags": []
          },
          "execution_count": 58
        },
        {
          "output_type": "display_data",
          "data": {
            "image/png": "[encoded data removed]",
            "text/plain": [
              "<Figure size 432x288 with 2 Axes>"
            ]
          },
          "metadata": {
            "tags": []
          }
        }
      ]
    }
  ]
}