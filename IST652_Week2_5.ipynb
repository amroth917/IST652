{
  "nbformat": 4,
  "nbformat_minor": 0,
  "metadata": {
    "colab": {
      "name": "IST652_Week2_5.ipynb",
      "version": "0.3.2",
      "provenance": [],
      "collapsed_sections": [],
      "include_colab_link": true
    },
    "kernelspec": {
      "name": "python3",
      "display_name": "Python 3"
    }
  },
  "cells": [
    {
      "cell_type": "markdown",
      "metadata": {
        "id": "view-in-github",
        "colab_type": "text"
      },
      "source": [
        "<a href=\"https://colab.research.google.com/github/amroth917/IST652/blob/master/IST652_Week2_5.ipynb\" target=\"_parent\"><img src=\"https://colab.research.google.com/assets/colab-badge.svg\" alt=\"Open In Colab\"/></a>"
      ]
    },
    {
      "cell_type": "markdown",
      "metadata": {
        "id": "G3GhaQPDGAp1",
        "colab_type": "text"
      },
      "source": [
        "Allison Roth\n",
        "July 25, 2019\n",
        "Week 2\n",
        "Reading a Program"
      ]
    },
    {
      "cell_type": "code",
      "metadata": {
        "id": "Z4pyFnIXW6yW",
        "colab_type": "code",
        "colab": {
          "base_uri": "https://localhost:8080/",
          "height": 793
        },
        "outputId": "ff598f78-8a68-4b88-83b1-0caee858d322"
      },
      "source": [
        "url = 'https://raw.githubusercontent.com/amroth917/IST652/classfiles/nba-attendance-1989.txt'\n",
        "NBAfile = pd.read_csv(url)\n",
        "\n",
        "import io \n",
        "NBAlist = pd.read_csv('nba-attendance-1989.txt',sep=\" \", header=None) \n",
        "\n",
        "print(NBAlist)\n",
        "\n",
        "NBAlist.strip()"
      ],
      "execution_count": 40,
      "outputs": [
        {
          "output_type": "stream",
          "text": [
            "                             0\n",
            "0      Atlanta\\t\\t13993\\t20.06\n",
            "1       Boston\\t\\t14916\\t22.54\n",
            "2         Charlotte\\t23901\\t17\n",
            "3      Chicago\\t\\t18404\\t21.98\n",
            "4      Cleveland\\t16969\\t19.63\n",
            "5       Dallas\\t\\t16868\\t17.05\n",
            "6        Denver\\t\\t12668\\t17.4\n",
            "7      Detroit\\t\\t21454\\t24.42\n",
            "8   Golden_State\\t15025\\t17.04\n",
            "9      Houston\\t\\t15846\\t17.56\n",
            "10     Indiana\\t\\t12885\\t13.77\n",
            "11   LA_Clippers\\t11869\\t21.95\n",
            "12     LA_Lakers\\t17378\\t29.18\n",
            "13        Miami\\t\\t15008\\t17.6\n",
            "14     Milwaukee\\t16088\\t14.08\n",
            "15     Minnesota\\t26160\\t10.92\n",
            "16    New_Jersey\\t12160\\t13.31\n",
            "17       New_York\\t17815\\t22.7\n",
            "18     Orlando\\t\\t15606\\t20.47\n",
            "19  Philadelphia\\t14017\\t19.04\n",
            "20     Phoenix\\t\\t14114\\t16.59\n",
            "21      Portland\\t12884\\t22.19\n",
            "22    Sacramento\\t17014\\t16.96\n",
            "23   San_Antonio\\t14722\\t16.79\n",
            "24     Seattle\\t\\t12244\\t18.11\n",
            "25        Utah\\t\\t12616\\t18.41\n",
            "26    Washington\\t11565\\t14.55\n"
          ],
          "name": "stdout"
        },
        {
          "output_type": "error",
          "ename": "AttributeError",
          "evalue": "ignored",
          "traceback": [
            "\u001b[0;31m---------------------------------------------------------------------------\u001b[0m",
            "\u001b[0;31mAttributeError\u001b[0m                            Traceback (most recent call last)",
            "\u001b[0;32m<ipython-input-40-5ca3c2800460>\u001b[0m in \u001b[0;36m<module>\u001b[0;34m()\u001b[0m\n\u001b[1;32m      7\u001b[0m \u001b[0mprint\u001b[0m\u001b[0;34m(\u001b[0m\u001b[0mNBAlist\u001b[0m\u001b[0;34m)\u001b[0m\u001b[0;34m\u001b[0m\u001b[0;34m\u001b[0m\u001b[0m\n\u001b[1;32m      8\u001b[0m \u001b[0;34m\u001b[0m\u001b[0m\n\u001b[0;32m----> 9\u001b[0;31m \u001b[0mNBAlist\u001b[0m\u001b[0;34m.\u001b[0m\u001b[0mstrip\u001b[0m\u001b[0;34m(\u001b[0m\u001b[0;34m)\u001b[0m\u001b[0;34m\u001b[0m\u001b[0;34m\u001b[0m\u001b[0m\n\u001b[0m",
            "\u001b[0;32m/usr/local/lib/python3.6/dist-packages/pandas/core/generic.py\u001b[0m in \u001b[0;36m__getattr__\u001b[0;34m(self, name)\u001b[0m\n\u001b[1;32m   5065\u001b[0m             \u001b[0;32mif\u001b[0m \u001b[0mself\u001b[0m\u001b[0;34m.\u001b[0m\u001b[0m_info_axis\u001b[0m\u001b[0;34m.\u001b[0m\u001b[0m_can_hold_identifiers_and_holds_name\u001b[0m\u001b[0;34m(\u001b[0m\u001b[0mname\u001b[0m\u001b[0;34m)\u001b[0m\u001b[0;34m:\u001b[0m\u001b[0;34m\u001b[0m\u001b[0;34m\u001b[0m\u001b[0m\n\u001b[1;32m   5066\u001b[0m                 \u001b[0;32mreturn\u001b[0m \u001b[0mself\u001b[0m\u001b[0;34m[\u001b[0m\u001b[0mname\u001b[0m\u001b[0;34m]\u001b[0m\u001b[0;34m\u001b[0m\u001b[0;34m\u001b[0m\u001b[0m\n\u001b[0;32m-> 5067\u001b[0;31m             \u001b[0;32mreturn\u001b[0m \u001b[0mobject\u001b[0m\u001b[0;34m.\u001b[0m\u001b[0m__getattribute__\u001b[0m\u001b[0;34m(\u001b[0m\u001b[0mself\u001b[0m\u001b[0;34m,\u001b[0m \u001b[0mname\u001b[0m\u001b[0;34m)\u001b[0m\u001b[0;34m\u001b[0m\u001b[0;34m\u001b[0m\u001b[0m\n\u001b[0m\u001b[1;32m   5068\u001b[0m \u001b[0;34m\u001b[0m\u001b[0m\n\u001b[1;32m   5069\u001b[0m     \u001b[0;32mdef\u001b[0m \u001b[0m__setattr__\u001b[0m\u001b[0;34m(\u001b[0m\u001b[0mself\u001b[0m\u001b[0;34m,\u001b[0m \u001b[0mname\u001b[0m\u001b[0;34m,\u001b[0m \u001b[0mvalue\u001b[0m\u001b[0;34m)\u001b[0m\u001b[0;34m:\u001b[0m\u001b[0;34m\u001b[0m\u001b[0;34m\u001b[0m\u001b[0m\n",
            "\u001b[0;31mAttributeError\u001b[0m: 'DataFrame' object has no attribute 'strip'"
          ]
        }
      ]
    },
    {
      "cell_type": "markdown",
      "metadata": {
        "id": "j1ozkDDLdc-d",
        "colab_type": "text"
      },
      "source": [
        "ANSWER"
      ]
    },
    {
      "cell_type": "code",
      "metadata": {
        "id": "AJRRP27Hddo0",
        "colab_type": "code",
        "colab": {}
      },
      "source": [
        "nbafile4solution.txt[6/11/18, 12:21:13 PM]\n",
        "# This program reads a file and prints the lines and creates a list of items on the line\n",
        "# open the file for reading (in the same directory as the program)\n",
        "NBAfile = open ('NBA-Attendance-1989.txt', 'r')\n",
        "# iterate over the lines of the file and count the number of lines\n",
        "count = 0\n",
        "NBAlist = [ ]\n",
        "for line in NBAfile:\n",
        " # increment adds one to the count variable\n",
        " count += 1\n",
        " # strip the newline at the end of the line (and other white space from ends)\n",
        " textline = line.strip()\n",
        " # split the line on whitespace\n",
        " items = textline.split()\n",
        " # add the list of items to the NBAlist\n",
        "\n",
        " NBAlist.append(items)\n",
        "# print the number of teams read\n",
        "print('Number of teams:', count)\n",
        "# print the lines from the list\n",
        "for line in NBAlist:\n",
        " print ('Line:', line)\n",
        "NBAfile.close()\n",
        "Results of Running Program:\n",
        "Number of teams: 27\n",
        "Line: ['Atlanta', '13993', '20.06']\n",
        "Line: ['Boston', '14916', '22.54']\n",
        "Line: ['Charlotte', '23901', '17']\n",
        "Line: ['Chicago', '18404', '21.98']\n",
        "Line: ['Cleveland', '16969', '19.63']\n",
        "Line: ['Dallas', '16868', '17.05']\n",
        "nbafile4solution.txt[6/11/18, 12:21:13 PM]\n",
        "Line: ['Denver', '12668', '17.4']\n",
        "Line: ['Detroit', '21454', '24.42']\n",
        "Line: ['Golden_State', '15025', '17.04']\n",
        "Line: ['Houston', '15846', '17.56']\n",
        "Line: ['Indiana', '12885', '13.77']\n",
        "Line: ['LA_Clippers', '11869', '21.95']\n",
        "Line: ['LA_Lakers', '17378', '29.18']\n",
        "Line: ['Miami', '15008', '17.6']\n",
        "Line: ['Milwaukee', '16088', '14.08']\n",
        "Line: ['Minnesota', '26160', '10.92']\n",
        "Line: ['New_Jersey', '12160', '13.31']\n",
        "Line: ['New_York', '17815', '22.7']\n",
        "Line: ['Orlando', '15606', '20.47']\n",
        "Line: ['Philadelphia', '14017', '19.04']\n",
        "Line: ['Phoenix', '14114', '16.59']\n",
        "Line: ['Portland', '12884', '22.19']\n",
        "Line: ['Sacramento', '17014', '16.96']\n",
        "Line: ['San_Antonio', '14722', '16.79']\n",
        "Line: ['Seattle', '12244', '18.11']\n",
        "Line: ['Utah', '12616', '18.41']\n",
        "Line: ['Washington', '11565', '14.55']"
      ],
      "execution_count": 0,
      "outputs": []
    }
  ]
}