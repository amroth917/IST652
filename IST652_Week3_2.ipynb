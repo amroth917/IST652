{
  "nbformat": 4,
  "nbformat_minor": 0,
  "metadata": {
    "colab": {
      "name": "IST652_Week3_2.ipynb",
      "version": "0.3.2",
      "provenance": [],
      "collapsed_sections": [],
      "include_colab_link": true
    },
    "kernelspec": {
      "name": "python3",
      "display_name": "Python 3"
    }
  },
  "cells": [
    {
      "cell_type": "markdown",
      "metadata": {
        "id": "view-in-github",
        "colab_type": "text"
      },
      "source": [
        "<a href=\"https://colab.research.google.com/github/amroth917/IST652/blob/master/IST652_Week3_2.ipynb\" target=\"_parent\"><img src=\"https://colab.research.google.com/assets/colab-badge.svg\" alt=\"Open In Colab\"/></a>"
      ]
    },
    {
      "cell_type": "markdown",
      "metadata": {
        "id": "G3GhaQPDGAp1",
        "colab_type": "text"
      },
      "source": [
        "Allison Roth\n",
        "July 25, 2019\n",
        "Week 3\n",
        "3.2\n"
      ]
    },
    {
      "cell_type": "markdown",
      "metadata": {
        "id": "WissZQ3a-wQH",
        "colab_type": "text"
      },
      "source": [
        "Write your own program (or build on the one you wrote before) to read the NBA Attendance file into Python, and find the average attendance, average price of a ticket, and the max attendance record, max ticket price. Display the total attendance, average attendance, the max attendance with the team name, and the max ticket price with the team name."
      ]
    },
    {
      "cell_type": "code",
      "metadata": {
        "id": "NMROUAk24_UM",
        "colab_type": "code",
        "colab": {
          "base_uri": "https://localhost:8080/",
          "height": 476
        },
        "outputId": "84f915ba-5143-4767-dbc7-a0aec517906e"
      },
      "source": [
        "#import os \n",
        "import os\n",
        "\n",
        "#directory path we are in\n",
        "os.getcwd()\n",
        "\n",
        "#change directory\n",
        "#os.chdir(/content/drive)\n",
        "\n",
        "NBAfile = open ('nba-attendance-1989.txt', 'r')\n",
        "NBAlist = []\n",
        "\n",
        "\n",
        "for i in NBAfile:\n",
        "\n",
        "    items = i.strip().split()\n",
        "\n",
        "    NBAlist.append(items)\n",
        "    \n",
        "for line in NBAfile:\n",
        "\n",
        "    # strip the newline at the end of the line (and other white space from ends)\n",
        "\n",
        "    textline = line.strip()\n",
        "\n",
        "    # split the line on whitespace\n",
        "\n",
        "    items = textline.split()\n",
        "\n",
        "    # add the list of items to the NBAlist\n",
        "    \n",
        "    NBAlist.append(items)\n",
        "\n",
        "for line in NBAfile:\n",
        "  textline = line.strip()\n",
        "  items = textline.split()\n",
        "  NBAlist.append(items)\n",
        "\n",
        "  \n",
        "#empty list\n",
        "attend = []\n",
        "for line in NBAlist:\n",
        "  attend.append(int(line[1]))\n",
        "  \n",
        "attend\n",
        "\n",
        "avgattend = sum(attend)/len(attend)\n",
        "\n",
        "#assigning feild names\n",
        "team, attendance, price = NBAlist[0]\n",
        "\n",
        "team\n",
        "\n",
        "prices = [ ]\n",
        "\n",
        "for (team,attendane, price) in NBAlist:\n",
        "  prices.append(float(price))\n",
        "  \n",
        "  \n",
        "maxattend = max(attend)\n",
        "\n",
        "\n",
        "\n"
      ],
      "execution_count": 140,
      "outputs": [
        {
          "output_type": "execute_result",
          "data": {
            "text/plain": [
              "[20.06,\n",
              " 22.54,\n",
              " 17.0,\n",
              " 21.98,\n",
              " 19.63,\n",
              " 17.05,\n",
              " 17.4,\n",
              " 24.42,\n",
              " 17.04,\n",
              " 17.56,\n",
              " 13.77,\n",
              " 21.95,\n",
              " 29.18,\n",
              " 17.6,\n",
              " 14.08,\n",
              " 10.92,\n",
              " 13.31,\n",
              " 22.7,\n",
              " 20.47,\n",
              " 19.04,\n",
              " 16.59,\n",
              " 22.19,\n",
              " 16.96,\n",
              " 16.79,\n",
              " 18.11,\n",
              " 18.41,\n",
              " 14.55]"
            ]
          },
          "metadata": {
            "tags": []
          },
          "execution_count": 140
        }
      ]
    },
    {
      "cell_type": "markdown",
      "metadata": {
        "id": "8Xgg2U9D_BZT",
        "colab_type": "text"
      },
      "source": [
        "answer"
      ]
    },
    {
      "cell_type": "code",
      "metadata": {
        "id": "t8bN3Xer-_vc",
        "colab_type": "code",
        "colab": {}
      },
      "source": [
        "\n",
        "NBAfile= open('NBA-attendance-1989.txt','r')\n",
        "NBAList = []\n",
        "for line in NBAfile:\n",
        "     textline=line.strip()\n",
        "     items = textline.split()\n",
        "     NBAList.append(items)\n",
        "attendances = []\n",
        "for line in NBAList:\n",
        "     attendances.append(int(line[1]))\n",
        "att_sum = sum(attendances)\n",
        "print ('Total Attendance was: ',att_sum)\n",
        "average_att = sum(attendances) / len(attendances)\n",
        "print ('Average Attendance was: ',average_att)\n",
        "team, att, price = NBAList[0]\n",
        "prices = []\n",
        "for (team, att, price) in NBAList:\n",
        "     prices.append(float(price))\n",
        "avg_price = sum(prices) / len(prices)\n",
        "print ('Average Ticket Price was: ',avg_price)\n",
        "max_att = max(attendances)\n",
        "max_price = max(prices)\n",
        "teams = []\n",
        "for (team, att, price) in NBAList:\n",
        "     teams.append(team)\n",
        "max_team=teams[attendances.index(max_att)]\n",
        "max_team2 = teams[prices.index(max_price)]\n",
        "print ('Team with greatest attendance was: ',max_team, 'Attendance of: ', max_att)\n",
        "print ('Team with greatest price was: ',max_team2, 'Price of: ', max_price)\n",
        "\n",
        "\n",
        "\n",
        "Program Results:\n",
        "\n",
        "Total Attendance was:  424189\n",
        "Average Attendance was:  15710.703703703704\n",
        "Average Ticket Price was:  18.566666666666666\n",
        "Team with greatest attendance was:  Minnesota Attendance of:  26160\n",
        "Team with greatest price was:  LA_Lakers Price of:  29.18"
      ],
      "execution_count": 0,
      "outputs": []
    }
  ]
}